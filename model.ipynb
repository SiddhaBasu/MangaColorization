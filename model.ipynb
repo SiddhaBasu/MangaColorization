{
 "cells": [
  {
   "cell_type": "code",
   "execution_count": null,
   "metadata": {},
   "outputs": [],
   "source": [
    "\"\"\"\n",
    "GAN Types\n",
    "- Deep Convolutional GAN (CGAN): well-suited for image generation because they capture spatial patterns and hierarchies\n",
    "- CycleGAN: image translation without pairs\n",
    "- Conditional GAN: produce samples more similar to the training data. useful for image synthesis tasks\n",
    "- pix2pix: pair training, generates images from text descriptions\n",
    "- Progressive GAN: start with low res images, and subsequent layers add details. allows GAN to train more quickly and produce higher resolution images\n",
    "- Wasserstein GAN: stable training, proposes limit to gradient of discriminator function\n",
    "\n",
    "Best Fit GANs\n",
    "- WGAN\n",
    "- Vanilla\n",
    "- DCGAN\n",
    "- pix2pix\n",
    "\"\"\"\n"
   ]
  },
  {
   "cell_type": "code",
   "execution_count": null,
   "metadata": {},
   "outputs": [],
   "source": []
  }
 ],
 "metadata": {
  "language_info": {
   "name": "python"
  }
 },
 "nbformat": 4,
 "nbformat_minor": 2
}
